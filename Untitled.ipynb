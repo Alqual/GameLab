{
 "cells": [
  {
   "cell_type": "code",
   "execution_count": 1,
   "id": "8fd87418-ef58-4c69-8b05-e68a2a388f12",
   "metadata": {},
   "outputs": [
    {
     "name": "stdout",
     "output_type": "stream",
     "text": [
      "Collecting selenium\n",
      "  Downloading selenium-4.5.0-py3-none-any.whl (995 kB)\n",
      "     ------------------------------------- 995.2/995.2 kB 12.6 MB/s eta 0:00:00\n",
      "Collecting trio-websocket~=0.9\n",
      "  Downloading trio_websocket-0.9.2-py3-none-any.whl (16 kB)\n",
      "Requirement already satisfied: urllib3[socks]~=1.26 in c:\\users\\yuyu9\\appdata\\local\\programs\\python\\python310\\lib\\site-packages (from selenium) (1.26.9)\n",
      "Requirement already satisfied: certifi>=2021.10.8 in c:\\users\\yuyu9\\appdata\\local\\programs\\python\\python310\\lib\\site-packages (from selenium) (2021.10.8)\n",
      "Collecting trio~=0.17\n",
      "  Downloading trio-0.22.0-py3-none-any.whl (384 kB)\n",
      "     ------------------------------------- 384.9/384.9 kB 23.4 MB/s eta 0:00:00\n",
      "Collecting sortedcontainers\n",
      "  Downloading sortedcontainers-2.4.0-py2.py3-none-any.whl (29 kB)\n",
      "Requirement already satisfied: cffi>=1.14 in c:\\users\\yuyu9\\appdata\\local\\programs\\python\\python310\\lib\\site-packages (from trio~=0.17->selenium) (1.15.0)\n",
      "Collecting async-generator>=1.9\n",
      "  Downloading async_generator-1.10-py3-none-any.whl (18 kB)\n",
      "Collecting exceptiongroup>=1.0.0rc9\n",
      "  Downloading exceptiongroup-1.0.0rc9-py3-none-any.whl (12 kB)\n",
      "Requirement already satisfied: attrs>=19.2.0 in c:\\users\\yuyu9\\appdata\\local\\programs\\python\\python310\\lib\\site-packages (from trio~=0.17->selenium) (21.4.0)\n",
      "Requirement already satisfied: idna in c:\\users\\yuyu9\\appdata\\local\\programs\\python\\python310\\lib\\site-packages (from trio~=0.17->selenium) (3.3)\n",
      "Requirement already satisfied: sniffio in c:\\users\\yuyu9\\appdata\\local\\programs\\python\\python310\\lib\\site-packages (from trio~=0.17->selenium) (1.2.0)\n",
      "Collecting outcome\n",
      "  Downloading outcome-1.2.0-py2.py3-none-any.whl (9.7 kB)\n",
      "Collecting wsproto>=0.14\n",
      "  Downloading wsproto-1.2.0-py3-none-any.whl (24 kB)\n",
      "Collecting PySocks!=1.5.7,<2.0,>=1.5.6\n",
      "  Downloading PySocks-1.7.1-py3-none-any.whl (16 kB)\n",
      "Requirement already satisfied: pycparser in c:\\users\\yuyu9\\appdata\\local\\programs\\python\\python310\\lib\\site-packages (from cffi>=1.14->trio~=0.17->selenium) (2.21)\n",
      "Requirement already satisfied: h11<1,>=0.9.0 in c:\\users\\yuyu9\\appdata\\local\\programs\\python\\python310\\lib\\site-packages (from wsproto>=0.14->trio-websocket~=0.9->selenium) (0.13.0)\n",
      "Installing collected packages: sortedcontainers, wsproto, PySocks, outcome, exceptiongroup, async-generator, trio, trio-websocket, selenium\n",
      "Successfully installed PySocks-1.7.1 async-generator-1.10 exceptiongroup-1.0.0rc9 outcome-1.2.0 selenium-4.5.0 sortedcontainers-2.4.0 trio-0.22.0 trio-websocket-0.9.2 wsproto-1.2.0\n",
      "Note: you may need to restart the kernel to use updated packages.\n"
     ]
    }
   ],
   "source": [
    "pip install selenium "
   ]
  },
  {
   "cell_type": "markdown",
   "id": "67cbbae6-2f42-41c2-adb6-f5a7063871f4",
   "metadata": {},
   "source": [
    "chromeからサイトへアクセス"
   ]
  },
  {
   "cell_type": "code",
   "execution_count": 119,
   "id": "0a69ee91-a576-4133-9bf2-cb6053f3daca",
   "metadata": {},
   "outputs": [
    {
     "ename": "IndexError",
     "evalue": "list index out of range",
     "output_type": "error",
     "traceback": [
      "\u001b[1;31m---------------------------------------------------------------------------\u001b[0m",
      "\u001b[1;31mIndexError\u001b[0m                                Traceback (most recent call last)",
      "Input \u001b[1;32mIn [119]\u001b[0m, in \u001b[0;36m<cell line: 28>\u001b[1;34m()\u001b[0m\n\u001b[0;32m     37\u001b[0m     \u001b[38;5;28;01mbreak\u001b[39;00m\n\u001b[0;32m     38\u001b[0m \u001b[38;5;66;03m#print(tex.text)\u001b[39;00m\n\u001b[0;32m     39\u001b[0m dum \u001b[38;5;241m=\u001b[39m [tex\u001b[38;5;241m.\u001b[39mtext, vals_desc[\u001b[38;5;241m3\u001b[39m\u001b[38;5;241m*\u001b[39m(j\u001b[38;5;241m-\u001b[39m\u001b[38;5;241m4\u001b[39m)]\u001b[38;5;241m.\u001b[39mtext, \\\n\u001b[0;32m     40\u001b[0m        vals_desc[\u001b[38;5;241m3\u001b[39m\u001b[38;5;241m*\u001b[39m(j\u001b[38;5;241m-\u001b[39m\u001b[38;5;241m4\u001b[39m)\u001b[38;5;241m+\u001b[39m\u001b[38;5;241m1\u001b[39m]\u001b[38;5;241m.\u001b[39mtext,\n\u001b[1;32m---> 41\u001b[0m        \u001b[43mvals_desc\u001b[49m\u001b[43m[\u001b[49m\u001b[38;5;241;43m3\u001b[39;49m\u001b[38;5;241;43m*\u001b[39;49m\u001b[43m(\u001b[49m\u001b[43mj\u001b[49m\u001b[38;5;241;43m-\u001b[39;49m\u001b[38;5;241;43m4\u001b[39;49m\u001b[43m)\u001b[49m\u001b[38;5;241;43m+\u001b[39;49m\u001b[38;5;241;43m2\u001b[39;49m\u001b[43m]\u001b[49m\u001b[38;5;241m.\u001b[39mtext]\n\u001b[0;32m     42\u001b[0m \u001b[38;5;28;01mtry\u001b[39;00m:\n\u001b[0;32m     43\u001b[0m     writer\u001b[38;5;241m.\u001b[39mwriterow(dum)\n",
      "\u001b[1;31mIndexError\u001b[0m: list index out of range"
     ]
    }
   ],
   "source": [
    "import time                                 # スリープを使うために必要\n",
    "from selenium import webdriver              # Webブラウザを自動操作する（python -m pip install selenium)\n",
    "import chromedriver_binary                  # パスを通すためのコード\n",
    "from time import sleep                      # 新しくインポート\n",
    "import pandas as pd\n",
    "import csv\n",
    "\n",
    " \n",
    "driver = webdriver.Chrome()                 # Chromeを準備\n",
    "path = \"https://search.sbisec.co.jp/v2/popwin/info/stock/pop6040_usequity_list.html\"\n",
    "driver.get(path)\n",
    "\n",
    "# 暗黙的な待機\n",
    "driver.implicitly_wait(1)\n",
    " \n",
    "#sleep(5) # 読み込みを待つために５秒間処理を止める\n",
    "\n",
    "class_name = 'md-l-utl-mt10'\n",
    "\n",
    "\n",
    "#lists = driver.find_elements_by_class_name(class_name) #selenium3系\n",
    "lists =driver.find_elements(By.CLASS_NAME, class_name) #selenium4系\n",
    "#trs = lists.find_elements(By.TAG_NAME, \"th\")\n",
    "#print(driver.page_source)\n",
    "#print(lists)\n",
    "file_name = \"Stock_list.csv\"\n",
    "\n",
    "with open(\"./Stock_list.csv\", 'w', encoding='shift_jis') as f:\n",
    "    writer = csv.writer(f,lineterminator='\\n')\n",
    "    for i, val in enumerate(lists):\n",
    "        vals_name = val.find_elements(By.TAG_NAME, \"th\")\n",
    "        vals_desc = val.find_elements(By.TAG_NAME, \"td\")\n",
    "        #print([vals_desc[3].text, vals_desc[4].text,vals_desc[5].text])\n",
    "        for j,tex in enumerate(vals_name):\n",
    "            if j > 3:\n",
    "                if j>5000:\n",
    "                    break\n",
    "                #print(tex.text)\n",
    "                dum = [tex.text, vals_desc[3*(j-4)].text, \\\n",
    "                       vals_desc[3*(j-4)+1].text,\n",
    "                       vals_desc[3*(j-4)+2].text]\n",
    "                try:\n",
    "                    writer.writerow(dum)\n",
    "                except:\n",
    "                    continue\n",
    "            elif j==0:\n",
    "                dum0 = [vals_name[0].text, vals_name[1].text, \\\n",
    "                        vals_name[2].text, vals_name[3].text ]\n",
    "                writer.writerow(dum0)\n",
    "                \n",
    "        "
   ]
  },
  {
   "cell_type": "code",
   "execution_count": 31,
   "id": "842d8390-b8ab-4938-852c-d0ebcd2fb62e",
   "metadata": {},
   "outputs": [
    {
     "name": "stdout",
     "output_type": "stream",
     "text": [
      "Collecting chromedriver-binary==106.0.5249.61.0\n",
      "  Downloading chromedriver-binary-106.0.5249.61.0.tar.gz (5.0 kB)\n",
      "  Preparing metadata (setup.py): started\n",
      "  Preparing metadata (setup.py): finished with status 'done'\n",
      "Building wheels for collected packages: chromedriver-binary\n",
      "  Building wheel for chromedriver-binary (setup.py): started\n",
      "  Building wheel for chromedriver-binary (setup.py): finished with status 'done'\n",
      "  Created wheel for chromedriver-binary: filename=chromedriver_binary-106.0.5249.61.0-py3-none-any.whl size=6606094 sha256=6168447bac8c11f675272bbadbaa2da7167c027995961fb2c89c0c51ffb9dbc2\n",
      "  Stored in directory: c:\\users\\yuyu9\\appdata\\local\\pip\\cache\\wheels\\26\\9f\\63\\d4be7c05875ebeaa10c8618fa3c165280daa1332ca56cecdc4\n",
      "Successfully built chromedriver-binary\n",
      "Installing collected packages: chromedriver-binary\n",
      "  Attempting uninstall: chromedriver-binary\n",
      "    Found existing installation: chromedriver-binary 107.0.5304.18.0\n",
      "    Uninstalling chromedriver-binary-107.0.5304.18.0:\n",
      "      Successfully uninstalled chromedriver-binary-107.0.5304.18.0\n",
      "Successfully installed chromedriver-binary-106.0.5249.61.0\n",
      "Note: you may need to restart the kernel to use updated packages.\n"
     ]
    }
   ],
   "source": [
    "pip install chromedriver-binary==106.0.5249.61.0"
   ]
  },
  {
   "cell_type": "code",
   "execution_count": 203,
   "id": "06bb914e-4ad3-4358-aa9f-a5dc7e714297",
   "metadata": {},
   "outputs": [
    {
     "name": "stdout",
     "output_type": "stream",
     "text": [
      "2019-05-06\n",
      "Index([], dtype='object') True\n",
      "SPRO.US 2019-05-06 2020-04-03 00:00:00\n",
      "            code   Open     High    Low  Close  Volume\n",
      "Date                                                  \n",
      "2020-04-03  AMPL   7.23   7.7500   6.98   7.27  114574\n",
      "2020-04-02  AMPL   7.49   7.9418   7.06   7.30   69010\n",
      "2020-04-01  AMPL   7.92   7.9200   6.88   7.45  105749\n",
      "2020-03-31  AMPL   8.00   8.1000   7.33   8.08   84807\n",
      "2020-03-30  AMPL   7.90   8.0200   7.76   8.00   75185\n",
      "...          ...    ...      ...    ...    ...     ...\n",
      "2019-05-10  AMPL  12.07  12.9000  11.44  12.69   78639\n",
      "2019-05-09  AMPL  11.29  11.8400  11.09  11.38   25894\n",
      "2019-05-08  AMPL  11.10  11.6437  11.03  11.36   42245\n",
      "2019-05-07  AMPL  11.34  11.9000  11.02  11.11   45752\n",
      "2019-05-06  AMPL  11.19  11.6400  11.10  11.45   35497\n",
      "\n",
      "[232 rows x 6 columns]\n"
     ]
    }
   ],
   "source": [
    "import os\n",
    "import datetime as dt\n",
    "import pandas_datareader.data as web\n",
    "import numpy as np\n",
    "import matplotlib.pyplot as plt\n",
    " \n",
    "#銘柄コード入力(7177はGMO-APです。)\n",
    "#ticker_symbol=\"AMPL\"\n",
    "#ticker_symbol_dr=ticker_symbol + \".US\"\n",
    " \n",
    "#2022-01-01以降の株価取得\n",
    "start='2022-01-01'\n",
    "end = dt.date.today()\n",
    "\n",
    "m = np.random.randint(1,12)\n",
    "d = np.random.randint(1,31)\n",
    "y = np.random.randint(2010,2020)\n",
    "\n",
    "date = '{0}-{1:02d}-{2:02d}'.format(y, m, d)\n",
    "print(date)\n",
    "date2 = dt.datetime.strptime(date, '%Y-%m-%d')\n",
    "date3 = date2+dt.timedelta(days=np.random.randint(90,365))\n",
    "\n",
    "df0 = pd.read_csv(\"./Stock_list.csv\", encoding='shift_jis')\n",
    "#print( df0.loc[4][:4])\n",
    "\n",
    "long = len(df0.loc[:])\n",
    "#print(long)\n",
    "df = pd.DataFrame()\n",
    "print(df.index,df.empty)\n",
    "while df.empty:\n",
    "    random_nameind = np.random.randint(0,long-1)\n",
    "    ticker_symbol_dr= df0.loc[random_nameind][0]+ \".US\"\n",
    "    print(ticker_symbol_dr, date, date3)\n",
    "    #データ取得\n",
    "    df = web.DataReader(ticker_symbol_dr, data_source='stooq', start=date,end=date3)\n",
    "    #2列目に銘柄コード追加\n",
    "    df.insert(0, \"code\", ticker_symbol, allow_duplicates=False)\n",
    "print(df)\n",
    "\n",
    "#画像の作成と保存\n",
    "\n",
    "#plt.figure()\n",
    "filename = \"./test/sample_.csv\"\n",
    "#df = df.drop(columns=[\"High\",\"Low\",\"Volume\"],axis=1)\n",
    "#df.plot()\n",
    "#plt.savefig(\"./test.jpg\")\n",
    "#plt.close()\n",
    "#csv保存\n",
    "df.to_csv(filename)"
   ]
  },
  {
   "cell_type": "code",
   "execution_count": 202,
   "id": "44af93e7-3a4c-4400-a112-7fe56b417443",
   "metadata": {},
   "outputs": [
    {
     "name": "stdout",
     "output_type": "stream",
     "text": [
      "Collecting flaskNote: you may need to restart the kernel to use updated packages.\n",
      "\n",
      "  Downloading Flask-2.2.2-py3-none-any.whl (101 kB)\n",
      "     -------------------------------------- 101.5/101.5 kB 2.9 MB/s eta 0:00:00\n",
      "Requirement already satisfied: Jinja2>=3.0 in c:\\users\\yuyu9\\appdata\\local\\programs\\python\\python310\\lib\\site-packages (from flask) (3.1.2)\n",
      "Requirement already satisfied: click>=8.0 in c:\\users\\yuyu9\\appdata\\local\\programs\\python\\python310\\lib\\site-packages (from flask) (8.1.3)\n",
      "Collecting itsdangerous>=2.0\n",
      "  Downloading itsdangerous-2.1.2-py3-none-any.whl (15 kB)\n",
      "Collecting Werkzeug>=2.2.2\n",
      "  Downloading Werkzeug-2.2.2-py3-none-any.whl (232 kB)\n",
      "     ------------------------------------- 232.7/232.7 kB 14.8 MB/s eta 0:00:00\n",
      "Requirement already satisfied: colorama in c:\\users\\yuyu9\\appdata\\local\\programs\\python\\python310\\lib\\site-packages (from click>=8.0->flask) (0.4.4)\n",
      "Requirement already satisfied: MarkupSafe>=2.0 in c:\\users\\yuyu9\\appdata\\local\\programs\\python\\python310\\lib\\site-packages (from Jinja2>=3.0->flask) (2.1.1)\n",
      "Installing collected packages: Werkzeug, itsdangerous, flask\n",
      "  Attempting uninstall: Werkzeug\n",
      "    Found existing installation: Werkzeug 2.1.1\n",
      "    Uninstalling Werkzeug-2.1.1:\n",
      "      Successfully uninstalled Werkzeug-2.1.1\n",
      "Successfully installed Werkzeug-2.2.2 flask-2.2.2 itsdangerous-2.1.2\n"
     ]
    }
   ],
   "source": [
    "pip install flask"
   ]
  },
  {
   "cell_type": "code",
   "execution_count": null,
   "id": "c827acb0-5900-4c46-bde5-5f226536d073",
   "metadata": {},
   "outputs": [],
   "source": []
  }
 ],
 "metadata": {
  "kernelspec": {
   "display_name": "Python 3 (ipykernel)",
   "language": "python",
   "name": "python3"
  },
  "language_info": {
   "codemirror_mode": {
    "name": "ipython",
    "version": 3
   },
   "file_extension": ".py",
   "mimetype": "text/x-python",
   "name": "python",
   "nbconvert_exporter": "python",
   "pygments_lexer": "ipython3",
   "version": "3.10.5"
  }
 },
 "nbformat": 4,
 "nbformat_minor": 5
}
